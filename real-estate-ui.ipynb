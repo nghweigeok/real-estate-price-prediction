{
 "metadata": {
  "language_info": {
   "codemirror_mode": {
    "name": "ipython",
    "version": 3
   },
   "file_extension": ".py",
   "mimetype": "text/x-python",
   "name": "python",
   "nbconvert_exporter": "python",
   "pygments_lexer": "ipython3",
   "version": "3.8.7-final"
  },
  "orig_nbformat": 2,
  "kernelspec": {
   "name": "python3",
   "display_name": "Python 3.8.7 64-bit ('real-estate-venv')",
   "metadata": {
    "interpreter": {
     "hash": "44c5a57616d34b698862b2642700cbd0d9175077eb9f4812a5f9a0306844a88b"
    }
   }
  }
 },
 "nbformat": 4,
 "nbformat_minor": 2,
 "cells": [
  {
   "source": [
    "# Real Estate Price Prediction"
   ],
   "cell_type": "markdown",
   "metadata": {}
  },
  {
   "cell_type": "code",
   "execution_count": 1,
   "metadata": {},
   "outputs": [],
   "source": [
    "#!jupyter nbextension enable --py widgetsnbextension --sys-prefix\n",
    "#!jupyter serverextension enable voila --sys-prefix"
   ]
  },
  {
   "cell_type": "code",
   "execution_count": 2,
   "metadata": {},
   "outputs": [],
   "source": [
    "import warnings\n",
    "warnings.filterwarnings('ignore')\n",
    "\n",
    "import ipywidgets as widgets\n",
    "from IPython.display import display"
   ]
  },
  {
   "cell_type": "code",
   "execution_count": 4,
   "metadata": {},
   "outputs": [
    {
     "output_type": "display_data",
     "data": {
      "text/plain": "VBox(children=(Image(value=b'\\xff\\xd8\\xff\\xe0\\x00\\x10JFIF\\x00\\x01\\x01\\x01\\x00H\\x00H\\x00\\x00\\xff\\xe1\\x00\"Exif\\x…",
      "application/vnd.jupyter.widget-view+json": {
       "version_major": 2,
       "version_minor": 0,
       "model_id": "f612aae0662748e68443885066b5bfec"
      }
     },
     "metadata": {}
    }
   ],
   "source": [
    "# add image\n",
    "\n",
    "file = open(\"headline_photo.jpg\", \"rb\")\n",
    "image = file.read()\n",
    "image_headline = widgets.Image(\n",
    "    value=image,\n",
    "    format='jpg',\n",
    "    width='initial'\n",
    ")\n",
    "\n",
    "label_headline = widgets.Label(\n",
    "                    value='Photo by CHUTTERSNAP on Unsplash',\n",
    "                    style={'description_width': 'initial'},\n",
    ")\n",
    "\n",
    "vbox_headline = widgets.VBox([image_headline, label_headline])\n",
    "\n",
    "display(vbox_headline)"
   ]
  },
  {
   "source": [
    "## Select the requirements of the real estate of your choice and get a predicted sales price!"
   ],
   "cell_type": "markdown",
   "metadata": {}
  },
  {
   "cell_type": "code",
   "execution_count": 5,
   "metadata": {},
   "outputs": [],
   "source": [
    "# number of bedrooms\n",
    "\n",
    "label_bedrooms = widgets.Label(\n",
    "                    value='Number of bedrooms:',\n",
    "                    style={'description_width': 'initial'},\n",
    ")\n",
    "\n",
    "slider_bedrooms = widgets.IntSlider(\n",
    "                        value=1, # default value\n",
    "                        min=0, \n",
    "                        max=14,\n",
    "                        step=1,\n",
    "                        description='',\n",
    "                        disabled=False,\n",
    "                        continuous_update=False,\n",
    "                        orientation='horizontal',\n",
    "                        readout=True,\n",
    "                        readout_format='d',\n",
    "                        style={'description_width': 'initial', 'handle_color': '#16a085'}, \n",
    "                    )\n",
    "\n",
    "hbox_bedrooms = widgets.HBox([label_bedrooms, slider_bedrooms])"
   ]
  },
  {
   "cell_type": "code",
   "execution_count": 6,
   "metadata": {},
   "outputs": [
    {
     "output_type": "display_data",
     "data": {
      "text/plain": "HBox(children=(Label(value='Number of bedrooms:', style=DescriptionStyle(description_width='initial')), IntSli…",
      "application/vnd.jupyter.widget-view+json": {
       "version_major": 2,
       "version_minor": 0,
       "model_id": "c31010ec1299455c9336fc38d397f91a"
      }
     },
     "metadata": {}
    }
   ],
   "source": [
    "display(hbox_bedrooms)"
   ]
  },
  {
   "cell_type": "code",
   "execution_count": 7,
   "metadata": {},
   "outputs": [],
   "source": [
    "# number of bathrooms\n",
    "\n",
    "label_bathrooms = widgets.Label(\n",
    "                    value='Number of bathrooms:',\n",
    "                    style={'description_width': 'initial'},\n",
    ")\n",
    "\n",
    "slider_bathrooms = widgets.IntSlider(\n",
    "                        value=1, # default value\n",
    "                        min=1, \n",
    "                        max=21,\n",
    "                        step=1,\n",
    "                        description='',\n",
    "                        disabled=False,\n",
    "                        continuous_update=False,\n",
    "                        orientation='horizontal',\n",
    "                        readout=True,\n",
    "                        readout_format='d',\n",
    "                        style={'description_width': 'initial', 'handle_color': '#16a085'}, \n",
    "                    )\n",
    "\n",
    "hbox_bathrooms = widgets.HBox([label_bathrooms, slider_bathrooms])"
   ]
  },
  {
   "cell_type": "code",
   "execution_count": 8,
   "metadata": {},
   "outputs": [
    {
     "output_type": "display_data",
     "data": {
      "text/plain": "HBox(children=(Label(value='Number of bathrooms:', style=DescriptionStyle(description_width='initial')), IntSl…",
      "application/vnd.jupyter.widget-view+json": {
       "version_major": 2,
       "version_minor": 0,
       "model_id": "37b2ba5a3b8943859c0388bb6aa79490"
      }
     },
     "metadata": {}
    }
   ],
   "source": [
    "display(hbox_bathrooms)"
   ]
  },
  {
   "cell_type": "code",
   "execution_count": 9,
   "metadata": {},
   "outputs": [],
   "source": [
    "# number of parking\n",
    "\n",
    "label_parking = widgets.Label(\n",
    "                    value='Number of parking:',\n",
    "                    style={'description_width': 'initial'},\n",
    ")\n",
    "\n",
    "slider_parking = widgets.IntSlider(\n",
    "                        value=1, # default value\n",
    "                        min=0, \n",
    "                        max=31,\n",
    "                        step=1,\n",
    "                        description='',\n",
    "                        disabled=False,\n",
    "                        continuous_update=False,\n",
    "                        orientation='horizontal',\n",
    "                        readout=True,\n",
    "                        readout_format='d',\n",
    "                        style={'description_width': 'initial', 'handle_color': '#16a085'}, \n",
    "                    )\n",
    "\n",
    "hbox_parking = widgets.HBox([label_parking, slider_parking])"
   ]
  },
  {
   "cell_type": "code",
   "execution_count": 10,
   "metadata": {},
   "outputs": [
    {
     "output_type": "display_data",
     "data": {
      "text/plain": "HBox(children=(Label(value='Number of parking:', style=DescriptionStyle(description_width='initial')), IntSlid…",
      "application/vnd.jupyter.widget-view+json": {
       "version_major": 2,
       "version_minor": 0,
       "model_id": "f49d03adf13741d68409d06120a545de"
      }
     },
     "metadata": {}
    }
   ],
   "source": [
    "display(hbox_parking)"
   ]
  },
  {
   "cell_type": "code",
   "execution_count": 11,
   "metadata": {},
   "outputs": [],
   "source": [
    "# property type (house/unit)\n",
    "\n",
    "label_proptype = widgets.Label(\n",
    "                    value='Property type:',\n",
    "                    style={'description_width': 'initial'},\n",
    ")\n",
    "\n",
    "toggle_proptype = widgets.ToggleButtons(\n",
    "                        options=['House', 'Unit'],\n",
    "                        description='',\n",
    "                        disabled=False,\n",
    "                        button_style='', # 'success', 'info', 'warning', 'danger' or ''\n",
    "                        tooltips=['Landed house', 'Apartment unit'],\n",
    "                    #     icons=['check'] * 3\n",
    "                    )\n",
    "\n",
    "hbox_proptype = widgets.HBox([label_proptype, toggle_proptype])"
   ]
  },
  {
   "cell_type": "code",
   "execution_count": 12,
   "metadata": {},
   "outputs": [
    {
     "output_type": "display_data",
     "data": {
      "text/plain": "HBox(children=(Label(value='Property type:', style=DescriptionStyle(description_width='initial')), ToggleButto…",
      "application/vnd.jupyter.widget-view+json": {
       "version_major": 2,
       "version_minor": 0,
       "model_id": "74e0b2c2014d480eb67593f838870c3d"
      }
     },
     "metadata": {}
    }
   ],
   "source": [
    "display(hbox_proptype)"
   ]
  },
  {
   "cell_type": "code",
   "execution_count": 13,
   "metadata": {
    "tags": []
   },
   "outputs": [],
   "source": [
    "# suburb\n",
    "\n",
    "with open('list_of_suburb.txt', 'r') as f:\n",
    "    suburb_list = [line.strip() for line in f]\n",
    "\n",
    "label_suburb = widgets.Label(\n",
    "                    value='Suburb area:',\n",
    "                    style={'description_width': 'initial'},\n",
    ")\n",
    "\n",
    "dropdown_suburb = widgets.Dropdown(\n",
    "                        options=suburb_list,\n",
    "                        value='Kambah',\n",
    "                        description='',\n",
    "                        disabled=False,\n",
    "                    )\n",
    "\n",
    "hbox_suburb = widgets.HBox([label_suburb, dropdown_suburb])"
   ]
  },
  {
   "cell_type": "code",
   "execution_count": 14,
   "metadata": {},
   "outputs": [
    {
     "output_type": "display_data",
     "data": {
      "text/plain": "HBox(children=(Label(value='Suburb area:', style=DescriptionStyle(description_width='initial')), Dropdown(inde…",
      "application/vnd.jupyter.widget-view+json": {
       "version_major": 2,
       "version_minor": 0,
       "model_id": "88dde78435974f3c9862952fb1773973"
      }
     },
     "metadata": {}
    }
   ],
   "source": [
    "display(hbox_suburb)"
   ]
  },
  {
   "cell_type": "code",
   "execution_count": 15,
   "metadata": {},
   "outputs": [],
   "source": [
    "import pickle \n",
    "import pandas as pd \n",
    "\n",
    "# load model and label encoders\n",
    "model = pickle.load(open('rfr_model_0.62acc.pkl','rb'))\n",
    "le_propType = pickle.load(open('lbl_encoder_propType.pkl', 'rb'))\n",
    "le_suburb = pickle.load(open('lbl_encoder_suburb.pkl', 'rb'))\n",
    "\n",
    "# button for price prediction\n",
    "button_predict = widgets.Button(\n",
    "                    description='Get the predicted price',\n",
    "                    disabled=False,\n",
    "                    button_style='info', # 'success', 'info', 'warning', 'danger' or ''\n",
    "                    tooltip='Get housing price',\n",
    "                    icon='',\n",
    "                    style={'description_width': 'initial'},\n",
    "                    layout={'width': 'auto'}\n",
    "                )\n",
    "\n",
    "output = widgets.Output()\n",
    "\n",
    "# button click event\n",
    "def on_button_clicked(b):\n",
    "    with output:\n",
    "        # create X_test dataframe based on the selections\n",
    "        df_X_test = pd.DataFrame({'bedrooms': slider_bedrooms.value, \n",
    "                                  'bathrooms': slider_bathrooms.value,\n",
    "                                  'parking': slider_parking.value,\n",
    "                                  'suburb': dropdown_suburb.value,\n",
    "                                  'propertyType': toggle_proptype.value\n",
    "                                }, index=[0])\n",
    "\n",
    "        # label encode suburb and property type\n",
    "        df_X_test['suburb'] = le_suburb.fit_transform(df_X_test['suburb'])\n",
    "        df_X_test['propertyType'] = le_suburb.fit_transform(df_X_test['propertyType'])\n",
    "\n",
    "        # model prediction\n",
    "        prediction_result = model.predict(df_X_test)\n",
    "        print(f\"The predicted real estate price for your preference is ${prediction_result[0]:,.02f}.\")\n",
    "\n",
    "\n",
    "button_predict.on_click(on_button_clicked)\n",
    "\n",
    "vbox_predict = widgets.VBox([button_predict, output])"
   ]
  },
  {
   "cell_type": "code",
   "execution_count": 16,
   "metadata": {},
   "outputs": [
    {
     "output_type": "display_data",
     "data": {
      "text/plain": "VBox(children=(Button(button_style='info', description='Get the predicted price', layout=Layout(width='auto'),…",
      "application/vnd.jupyter.widget-view+json": {
       "version_major": 2,
       "version_minor": 0,
       "model_id": "66dfa096487c42b8b64d20232930892a"
      }
     },
     "metadata": {}
    }
   ],
   "source": [
    "display(vbox_predict)"
   ]
  },
  {
   "cell_type": "code",
   "execution_count": null,
   "metadata": {},
   "outputs": [],
   "source": []
  }
 ]
}