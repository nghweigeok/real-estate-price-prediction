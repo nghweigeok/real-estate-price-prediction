{
 "metadata": {
  "language_info": {
   "codemirror_mode": {
    "name": "ipython",
    "version": 3
   },
   "file_extension": ".py",
   "mimetype": "text/x-python",
   "name": "python",
   "nbconvert_exporter": "python",
   "pygments_lexer": "ipython3",
   "version": "3.8.5-final"
  },
  "orig_nbformat": 2,
  "kernelspec": {
   "name": "python3",
   "display_name": "Python 3",
   "language": "python"
  }
 },
 "nbformat": 4,
 "nbformat_minor": 2,
 "cells": [
  {
   "source": [
    "# Real Estate Price Prediction\n",
    "\n",
    "ref: https://github.com/jupyter-widgets/ipywidgets/issues/2523\n",
    "\n",
    "https://ipywidgets.readthedocs.io/en/stable/examples/Widget%20List.html#Image"
   ],
   "cell_type": "markdown",
   "metadata": {}
  },
  {
   "cell_type": "code",
   "execution_count": 4,
   "metadata": {},
   "outputs": [
    {
     "output_type": "stream",
     "name": "stderr",
     "text": [
      "Enabling notebook extension jupyter-js-widgets/extension...\n      - Validating: ok\n"
     ]
    }
   ],
   "source": [
    "!jupyter nbextension enable --py widgetsnbextension --sys-prefix"
   ]
  },
  {
   "cell_type": "code",
   "execution_count": 36,
   "metadata": {},
   "outputs": [],
   "source": [
    "import ipywidgets as widgets\n",
    "from IPython.display import display"
   ]
  },
  {
   "cell_type": "code",
   "execution_count": 73,
   "metadata": {},
   "outputs": [],
   "source": [
    "# number of bedrooms\n",
    "\n",
    "label_bedrooms = widgets.Label(\n",
    "                    value='Number of bedrooms:',\n",
    "                    style={'description_width': 'initial'},\n",
    ")\n",
    "\n",
    "slider_bedrooms = widgets.IntSlider(\n",
    "                        value=1, # default value\n",
    "                        min=0, \n",
    "                        max=14,\n",
    "                        step=1,\n",
    "                        description='',\n",
    "                        disabled=False,\n",
    "                        continuous_update=False,\n",
    "                        orientation='horizontal',\n",
    "                        readout=True,\n",
    "                        readout_format='d',\n",
    "                        style={'description_width': 'initial', 'handle_color': '#16a085'}, \n",
    "                    )\n",
    "\n",
    "hbox_bedrooms = widgets.HBox([label_bedrooms, slider_bedrooms])"
   ]
  },
  {
   "cell_type": "code",
   "execution_count": 74,
   "metadata": {},
   "outputs": [
    {
     "output_type": "display_data",
     "data": {
      "text/plain": "HBox(children=(Label(value='Number of bedrooms:', style=DescriptionStyle(description_width='initial')), IntSli…",
      "application/vnd.jupyter.widget-view+json": {
       "version_major": 2,
       "version_minor": 0,
       "model_id": "22756894ffc545cfacf3035e8cb5bf80"
      }
     },
     "metadata": {}
    }
   ],
   "source": [
    "display(hbox_bedrooms)"
   ]
  },
  {
   "cell_type": "code",
   "execution_count": 76,
   "metadata": {},
   "outputs": [
    {
     "output_type": "execute_result",
     "data": {
      "text/plain": [
       "8"
      ]
     },
     "metadata": {},
     "execution_count": 76
    }
   ],
   "source": [
    "slider_bedrooms.value"
   ]
  },
  {
   "cell_type": "code",
   "execution_count": 80,
   "metadata": {},
   "outputs": [],
   "source": [
    "# number of bathrooms\n",
    "\n",
    "label_bathrooms = widgets.Label(\n",
    "                    value='Number of bathrooms:',\n",
    "                    style={'description_width': 'initial'},\n",
    ")\n",
    "\n",
    "slider_bathrooms = widgets.IntSlider(\n",
    "                        value=1, # default value\n",
    "                        min=1, \n",
    "                        max=21,\n",
    "                        step=1,\n",
    "                        description='',\n",
    "                        disabled=False,\n",
    "                        continuous_update=False,\n",
    "                        orientation='horizontal',\n",
    "                        readout=True,\n",
    "                        readout_format='d',\n",
    "                        style={'description_width': 'initial', 'handle_color': '#16a085'}, \n",
    "                    )\n",
    "\n",
    "hbox_bathrooms = widgets.HBox([label_bathrooms, slider_bathrooms])"
   ]
  },
  {
   "cell_type": "code",
   "execution_count": 81,
   "metadata": {},
   "outputs": [
    {
     "output_type": "display_data",
     "data": {
      "text/plain": "HBox(children=(Label(value='Number of bathrooms:', style=DescriptionStyle(description_width='initial')), IntSl…",
      "application/vnd.jupyter.widget-view+json": {
       "version_major": 2,
       "version_minor": 0,
       "model_id": "844e7278ed68462b8235cef5d4aaa3db"
      }
     },
     "metadata": {}
    }
   ],
   "source": [
    "display(hbox_bathrooms)"
   ]
  },
  {
   "cell_type": "code",
   "execution_count": 82,
   "metadata": {},
   "outputs": [
    {
     "output_type": "execute_result",
     "data": {
      "text/plain": [
       "1"
      ]
     },
     "metadata": {},
     "execution_count": 82
    }
   ],
   "source": [
    "slider_bathrooms.value"
   ]
  },
  {
   "cell_type": "code",
   "execution_count": 83,
   "metadata": {},
   "outputs": [],
   "source": [
    "# number of parking\n",
    "\n",
    "label_parking = widgets.Label(\n",
    "                    value='Number of parking:',\n",
    "                    style={'description_width': 'initial'},\n",
    ")\n",
    "\n",
    "slider_parking = widgets.IntSlider(\n",
    "                        value=1, # default value\n",
    "                        min=0, \n",
    "                        max=31,\n",
    "                        step=1,\n",
    "                        description='',\n",
    "                        disabled=False,\n",
    "                        continuous_update=False,\n",
    "                        orientation='horizontal',\n",
    "                        readout=True,\n",
    "                        readout_format='d',\n",
    "                        style={'description_width': 'initial', 'handle_color': '#16a085'}, \n",
    "                    )\n",
    "\n",
    "hbox_parking = widgets.HBox([label_parking, slider_parking])"
   ]
  },
  {
   "cell_type": "code",
   "execution_count": 84,
   "metadata": {},
   "outputs": [
    {
     "output_type": "display_data",
     "data": {
      "text/plain": "HBox(children=(Label(value='Number of parking:', style=DescriptionStyle(description_width='initial')), IntSlid…",
      "application/vnd.jupyter.widget-view+json": {
       "version_major": 2,
       "version_minor": 0,
       "model_id": "753f1606540e416b8dc0919b0a8137ac"
      }
     },
     "metadata": {}
    }
   ],
   "source": [
    "display(hbox_parking)"
   ]
  },
  {
   "cell_type": "code",
   "execution_count": 85,
   "metadata": {},
   "outputs": [
    {
     "output_type": "execute_result",
     "data": {
      "text/plain": [
       "2"
      ]
     },
     "metadata": {},
     "execution_count": 85
    }
   ],
   "source": [
    "slider_parking.value"
   ]
  },
  {
   "cell_type": "code",
   "execution_count": 127,
   "metadata": {},
   "outputs": [],
   "source": [
    "# property type (house/unit)\n",
    "\n",
    "label_proptype = widgets.Label(\n",
    "                    value='Property type:',\n",
    "                    style={'description_width': 'initial'},\n",
    ")\n",
    "\n",
    "toggle_proptype = widgets.ToggleButtons(\n",
    "                        options=['House', 'Unit'],\n",
    "                        description='',\n",
    "                        disabled=False,\n",
    "                        button_style='', # 'success', 'info', 'warning', 'danger' or ''\n",
    "                        tooltips=['Landed house', 'Apartment unit'],\n",
    "                    #     icons=['check'] * 3\n",
    "                    )\n",
    "\n",
    "hbox_proptype = widgets.HBox([label_proptype, toggle_proptype])"
   ]
  },
  {
   "cell_type": "code",
   "execution_count": 128,
   "metadata": {},
   "outputs": [
    {
     "output_type": "display_data",
     "data": {
      "text/plain": "HBox(children=(Label(value='Property type:', style=DescriptionStyle(description_width='initial')), ToggleButto…",
      "application/vnd.jupyter.widget-view+json": {
       "version_major": 2,
       "version_minor": 0,
       "model_id": "088e5742505947c1b62dc08196f70905"
      }
     },
     "metadata": {}
    }
   ],
   "source": [
    "display(hbox_proptype)"
   ]
  },
  {
   "cell_type": "code",
   "execution_count": 90,
   "metadata": {},
   "outputs": [
    {
     "output_type": "execute_result",
     "data": {
      "text/plain": [
       "'unit'"
      ]
     },
     "metadata": {},
     "execution_count": 90
    }
   ],
   "source": [
    "toggle_proptype.value.lower()"
   ]
  },
  {
   "cell_type": "code",
   "execution_count": 95,
   "metadata": {},
   "outputs": [],
   "source": [
    "# suburb\n",
    "\n",
    "label_suburb = widgets.Label(\n",
    "                    value='Suburb area:',\n",
    "                    style={'description_width': 'initial'},\n",
    ")\n",
    "\n",
    "dropdown_suburb = widgets.Dropdown(\n",
    "                        options=['1', '2', '3'],\n",
    "                        value='2',\n",
    "                        description='',\n",
    "                        disabled=False,\n",
    "                    )\n",
    "\n",
    "hbox_suburb = widgets.HBox([label_suburb, dropdown_suburb])"
   ]
  },
  {
   "cell_type": "code",
   "execution_count": 96,
   "metadata": {},
   "outputs": [
    {
     "output_type": "display_data",
     "data": {
      "text/plain": "HBox(children=(Label(value='Suburb area:', style=DescriptionStyle(description_width='initial')), Dropdown(inde…",
      "application/vnd.jupyter.widget-view+json": {
       "version_major": 2,
       "version_minor": 0,
       "model_id": "8780c61ed9cf48cdae39d390804b2e10"
      }
     },
     "metadata": {}
    }
   ],
   "source": [
    "display(hbox_suburb)"
   ]
  },
  {
   "cell_type": "code",
   "execution_count": 97,
   "metadata": {},
   "outputs": [
    {
     "output_type": "execute_result",
     "data": {
      "text/plain": [
       "'3'"
      ]
     },
     "metadata": {},
     "execution_count": 97
    }
   ],
   "source": [
    "dropdown_suburb.value"
   ]
  },
  {
   "cell_type": "code",
   "execution_count": 131,
   "metadata": {},
   "outputs": [],
   "source": [
    "# button for price prediction\n",
    "\n",
    "button_predict = widgets.Button(\n",
    "                    description='Get the predicted price',\n",
    "                    disabled=False,\n",
    "                    button_style='info', # 'success', 'info', 'warning', 'danger' or ''\n",
    "                    tooltip='Get housing price',\n",
    "                    icon='',\n",
    "                    style={'description_width': 'initial'},\n",
    "                    layout={'width': 'auto'}\n",
    "                )\n",
    "\n",
    "output = widgets.Output()\n",
    "\n",
    "def on_button_clicked(b):\n",
    "    with output:\n",
    "        # model prediction here\n",
    "        predicted_price = 123456\n",
    "        print(f\"The predicted real estate price for your preference is ${predicted_price}.\")\n",
    "\n",
    "button_predict.on_click(on_button_clicked)\n"
   ]
  },
  {
   "cell_type": "code",
   "execution_count": 132,
   "metadata": {},
   "outputs": [
    {
     "output_type": "display_data",
     "data": {
      "text/plain": "Button(button_style='info', description='Get the predicted price', layout=Layout(width='auto'), style=ButtonSt…",
      "application/vnd.jupyter.widget-view+json": {
       "version_major": 2,
       "version_minor": 0,
       "model_id": "7eb54fd1c50344bebcd9b8bdd5fab8d8"
      }
     },
     "metadata": {}
    },
    {
     "output_type": "display_data",
     "data": {
      "text/plain": "Output()",
      "application/vnd.jupyter.widget-view+json": {
       "version_major": 2,
       "version_minor": 0,
       "model_id": "bea1c9af93b2435491e7dda7fff10966"
      }
     },
     "metadata": {}
    }
   ],
   "source": [
    "display(button_predict, output)"
   ]
  },
  {
   "cell_type": "code",
   "execution_count": null,
   "metadata": {},
   "outputs": [],
   "source": []
  }
 ]
}