{
 "cells": [
  {
   "cell_type": "markdown",
   "metadata": {},
   "source": [
    "# Real Estate Price Prediction\n",
    "\n",
    "ref: https://github.com/jupyter-widgets/ipywidgets/issues/2523\n",
    "\n",
    "https://ipywidgets.readthedocs.io/en/stable/examples/Widget%20List.html#Image\n",
    "\n",
    "https://github.com/PrajwalPrashanth/fastai2-binder-voila-deployment"
   ]
  },
  {
   "cell_type": "code",
   "execution_count": 75,
   "metadata": {},
   "outputs": [
    {
     "name": "stderr",
     "output_type": "stream",
     "text": [
      "Enabling notebook extension jupyter-js-widgets/extension...\n",
      "      - Validating: ok\n",
      "Enabling: voila\n",
      "- Writing config: c:\\users\\nghwe\\desktop\\github\\real-estate-price-prediction\\real-estate-venv\\etc\\jupyter\n",
      "    - Validating...\n",
      "      voila 0.2.6 ok\n"
     ]
    }
   ],
   "source": [
    "!jupyter nbextension enable --py widgetsnbextension --sys-prefix\n",
    "!jupyter serverextension enable voila --sys-prefix"
   ]
  },
  {
   "cell_type": "code",
   "execution_count": 76,
   "metadata": {},
   "outputs": [],
   "source": [
    "import ipywidgets as widgets\n",
    "from IPython.display import display"
   ]
  },
  {
   "cell_type": "code",
   "execution_count": 77,
   "metadata": {},
   "outputs": [],
   "source": [
    "# number of bedrooms\n",
    "\n",
    "label_bedrooms = widgets.Label(\n",
    "                    value='Number of bedrooms:',\n",
    "                    style={'description_width': 'initial'},\n",
    ")\n",
    "\n",
    "slider_bedrooms = widgets.IntSlider(\n",
    "                        value=1, # default value\n",
    "                        min=0, \n",
    "                        max=14,\n",
    "                        step=1,\n",
    "                        description='',\n",
    "                        disabled=False,\n",
    "                        continuous_update=False,\n",
    "                        orientation='horizontal',\n",
    "                        readout=True,\n",
    "                        readout_format='d',\n",
    "                        style={'description_width': 'initial', 'handle_color': '#16a085'}, \n",
    "                    )\n",
    "\n",
    "hbox_bedrooms = widgets.HBox([label_bedrooms, slider_bedrooms])"
   ]
  },
  {
   "cell_type": "code",
   "execution_count": 78,
   "metadata": {},
   "outputs": [
    {
     "data": {
      "application/vnd.jupyter.widget-view+json": {
       "model_id": "4c4b759ac7d64827a4bcdb61dbd6bfb2",
       "version_major": 2,
       "version_minor": 0
      },
      "text/plain": [
       "HBox(children=(Label(value='Number of bedrooms:', style=DescriptionStyle(description_width='initial')), IntSli…"
      ]
     },
     "metadata": {},
     "output_type": "display_data"
    }
   ],
   "source": [
    "display(hbox_bedrooms)"
   ]
  },
  {
   "cell_type": "code",
   "execution_count": 79,
   "metadata": {},
   "outputs": [],
   "source": [
    "#slider_bedrooms.value"
   ]
  },
  {
   "cell_type": "code",
   "execution_count": 80,
   "metadata": {},
   "outputs": [],
   "source": [
    "# number of bathrooms\n",
    "\n",
    "label_bathrooms = widgets.Label(\n",
    "                    value='Number of bathrooms:',\n",
    "                    style={'description_width': 'initial'},\n",
    ")\n",
    "\n",
    "slider_bathrooms = widgets.IntSlider(\n",
    "                        value=1, # default value\n",
    "                        min=1, \n",
    "                        max=21,\n",
    "                        step=1,\n",
    "                        description='',\n",
    "                        disabled=False,\n",
    "                        continuous_update=False,\n",
    "                        orientation='horizontal',\n",
    "                        readout=True,\n",
    "                        readout_format='d',\n",
    "                        style={'description_width': 'initial', 'handle_color': '#16a085'}, \n",
    "                    )\n",
    "\n",
    "hbox_bathrooms = widgets.HBox([label_bathrooms, slider_bathrooms])"
   ]
  },
  {
   "cell_type": "code",
   "execution_count": 81,
   "metadata": {},
   "outputs": [
    {
     "data": {
      "application/vnd.jupyter.widget-view+json": {
       "model_id": "ecc3a1b6252b45dd8184936ded94967f",
       "version_major": 2,
       "version_minor": 0
      },
      "text/plain": [
       "HBox(children=(Label(value='Number of bathrooms:', style=DescriptionStyle(description_width='initial')), IntSl…"
      ]
     },
     "metadata": {},
     "output_type": "display_data"
    }
   ],
   "source": [
    "display(hbox_bathrooms)"
   ]
  },
  {
   "cell_type": "code",
   "execution_count": 82,
   "metadata": {},
   "outputs": [],
   "source": [
    "#slider_bathrooms.value"
   ]
  },
  {
   "cell_type": "code",
   "execution_count": 83,
   "metadata": {},
   "outputs": [],
   "source": [
    "# number of parking\n",
    "\n",
    "label_parking = widgets.Label(\n",
    "                    value='Number of parking:',\n",
    "                    style={'description_width': 'initial'},\n",
    ")\n",
    "\n",
    "slider_parking = widgets.IntSlider(\n",
    "                        value=1, # default value\n",
    "                        min=0, \n",
    "                        max=31,\n",
    "                        step=1,\n",
    "                        description='',\n",
    "                        disabled=False,\n",
    "                        continuous_update=False,\n",
    "                        orientation='horizontal',\n",
    "                        readout=True,\n",
    "                        readout_format='d',\n",
    "                        style={'description_width': 'initial', 'handle_color': '#16a085'}, \n",
    "                    )\n",
    "\n",
    "hbox_parking = widgets.HBox([label_parking, slider_parking])"
   ]
  },
  {
   "cell_type": "code",
   "execution_count": 84,
   "metadata": {},
   "outputs": [
    {
     "data": {
      "application/vnd.jupyter.widget-view+json": {
       "model_id": "2c6bda1ff0b54d749b40d9aecb11027f",
       "version_major": 2,
       "version_minor": 0
      },
      "text/plain": [
       "HBox(children=(Label(value='Number of parking:', style=DescriptionStyle(description_width='initial')), IntSlid…"
      ]
     },
     "metadata": {},
     "output_type": "display_data"
    }
   ],
   "source": [
    "display(hbox_parking)"
   ]
  },
  {
   "cell_type": "code",
   "execution_count": 85,
   "metadata": {},
   "outputs": [],
   "source": [
    "#slider_parking.value"
   ]
  },
  {
   "cell_type": "code",
   "execution_count": 86,
   "metadata": {},
   "outputs": [],
   "source": [
    "# property type (house/unit)\n",
    "\n",
    "label_proptype = widgets.Label(\n",
    "                    value='Property type:',\n",
    "                    style={'description_width': 'initial'},\n",
    ")\n",
    "\n",
    "toggle_proptype = widgets.ToggleButtons(\n",
    "                        options=['House', 'Unit'],\n",
    "                        description='',\n",
    "                        disabled=False,\n",
    "                        button_style='', # 'success', 'info', 'warning', 'danger' or ''\n",
    "                        tooltips=['Landed house', 'Apartment unit'],\n",
    "                    #     icons=['check'] * 3\n",
    "                    )\n",
    "\n",
    "hbox_proptype = widgets.HBox([label_proptype, toggle_proptype])"
   ]
  },
  {
   "cell_type": "code",
   "execution_count": 87,
   "metadata": {},
   "outputs": [
    {
     "data": {
      "application/vnd.jupyter.widget-view+json": {
       "model_id": "35e68ff22a6e45a282449219b89354e2",
       "version_major": 2,
       "version_minor": 0
      },
      "text/plain": [
       "HBox(children=(Label(value='Property type:', style=DescriptionStyle(description_width='initial')), ToggleButto…"
      ]
     },
     "metadata": {},
     "output_type": "display_data"
    }
   ],
   "source": [
    "display(hbox_proptype)"
   ]
  },
  {
   "cell_type": "code",
   "execution_count": 88,
   "metadata": {},
   "outputs": [],
   "source": [
    "#toggle_proptype.value.lower()"
   ]
  },
  {
   "cell_type": "code",
   "execution_count": 89,
   "metadata": {
    "tags": []
   },
   "outputs": [
    {
     "name": "stdout",
     "output_type": "stream",
     "text": [
      "107\n"
     ]
    }
   ],
   "source": [
    "# suburb\n",
    "\n",
    "with open('list_of_suburb.txt', 'r') as f:\n",
    "    suburb_list = [line.strip() for line in f]\n",
    "\n",
    "print(len(suburb_list))\n",
    "\n",
    "label_suburb = widgets.Label(\n",
    "                    value='Suburb area:',\n",
    "                    style={'description_width': 'initial'},\n",
    ")\n",
    "\n",
    "dropdown_suburb = widgets.Dropdown(\n",
    "                        options=suburb_list,\n",
    "                        value='Kambah',\n",
    "                        description='',\n",
    "                        disabled=False,\n",
    "                    )\n",
    "\n",
    "hbox_suburb = widgets.HBox([label_suburb, dropdown_suburb])"
   ]
  },
  {
   "cell_type": "code",
   "execution_count": 90,
   "metadata": {},
   "outputs": [
    {
     "data": {
      "application/vnd.jupyter.widget-view+json": {
       "model_id": "f9282856d79c4da0bf29e829b2d2a9dd",
       "version_major": 2,
       "version_minor": 0
      },
      "text/plain": [
       "HBox(children=(Label(value='Suburb area:', style=DescriptionStyle(description_width='initial')), Dropdown(inde…"
      ]
     },
     "metadata": {},
     "output_type": "display_data"
    }
   ],
   "source": [
    "display(hbox_suburb)"
   ]
  },
  {
   "cell_type": "code",
   "execution_count": 91,
   "metadata": {},
   "outputs": [],
   "source": [
    "#dropdown_suburb.value"
   ]
  },
  {
   "cell_type": "code",
   "execution_count": 95,
   "metadata": {},
   "outputs": [],
   "source": [
    "import pickle \n",
    "import pandas as pd \n",
    "\n",
    "# load model and label encoders\n",
    "model = pickle.load(open('rfr_model_0.62acc.pkl','rb'))\n",
    "le_propType = pickle.load(open('lbl_encoder_propType.pkl', 'rb'))\n",
    "le_suburb = pickle.load(open('lbl_encoder_suburb.pkl', 'rb'))\n",
    "\n",
    "# button for price prediction\n",
    "button_predict = widgets.Button(\n",
    "                    description='Get the predicted price',\n",
    "                    disabled=False,\n",
    "                    button_style='info', # 'success', 'info', 'warning', 'danger' or ''\n",
    "                    tooltip='Get housing price',\n",
    "                    icon='',\n",
    "                    style={'description_width': 'initial'},\n",
    "                    layout={'width': 'auto'}\n",
    "                )\n",
    "\n",
    "output = widgets.Output()\n",
    "\n",
    "# button click event\n",
    "def on_button_clicked(b):\n",
    "    with output:\n",
    "        # create X_test dataframe based on the selections\n",
    "        df_X_test = pd.DataFrame({'bedrooms': slider_bedrooms.value, \n",
    "                                  'bathrooms': slider_bathrooms.value,\n",
    "                                  'parking': slider_parking.value,\n",
    "                                  'suburb': dropdown_suburb.value,\n",
    "                                  'propertyType': toggle_proptype.value\n",
    "                                }, index=[0])\n",
    "\n",
    "        # label encode suburb and property type\n",
    "        df_X_test['suburb'] = le_suburb.fit_transform(df_X_test['suburb'])\n",
    "        df_X_test['propertyType'] = le_suburb.fit_transform(df_X_test['propertyType'])\n",
    "\n",
    "        # model prediction here\n",
    "\n",
    "        prediction_result = model.predict(df_X_test)\n",
    "        print(f\"The predicted real estate price for your preference is ${prediction_result[0]:,.02f}.\")\n",
    "\n",
    "\n",
    "button_predict.on_click(on_button_clicked)\n",
    "\n",
    "vbox_predict = widgets.VBox([button_predict, output])"
   ]
  },
  {
   "cell_type": "code",
   "execution_count": 96,
   "metadata": {},
   "outputs": [
    {
     "data": {
      "application/vnd.jupyter.widget-view+json": {
       "model_id": "cb2bcfd6791c4594a4ddac20703acb02",
       "version_major": 2,
       "version_minor": 0
      },
      "text/plain": [
       "VBox(children=(Button(button_style='info', description='Get the predicted price', layout=Layout(width='auto'),…"
      ]
     },
     "metadata": {},
     "output_type": "display_data"
    }
   ],
   "source": [
    "display(vbox_predict)"
   ]
  },
  {
   "cell_type": "code",
   "execution_count": null,
   "metadata": {},
   "outputs": [],
   "source": []
  }
 ],
 "metadata": {
  "kernelspec": {
   "display_name": "Python 3",
   "language": "python",
   "name": "python3"
  },
  "language_info": {
   "codemirror_mode": {
    "name": "ipython",
    "version": 3
   },
   "file_extension": ".py",
   "mimetype": "text/x-python",
   "name": "python",
   "nbconvert_exporter": "python",
   "pygments_lexer": "ipython3",
   "version": "3.8.7"
  }
 },
 "nbformat": 4,
 "nbformat_minor": 2
}
